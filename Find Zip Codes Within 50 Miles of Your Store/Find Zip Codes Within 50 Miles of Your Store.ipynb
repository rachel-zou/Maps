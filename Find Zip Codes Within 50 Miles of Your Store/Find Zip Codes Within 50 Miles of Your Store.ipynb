{
 "cells": [
  {
   "cell_type": "markdown",
   "metadata": {},
   "source": [
    "### I am going to use a file which contains all the zip code pairs that are witin 50 miles of each other. You can download this file from the National Bureau of Economic Research's ZIP Code Distance Database: http://data.nber.org/data/zip-code-distance-database.html"
   ]
  },
  {
   "cell_type": "code",
   "execution_count": 4,
   "metadata": {},
   "outputs": [
    {
     "name": "stdout",
     "output_type": "stream",
     "text": [
      "(5853510, 3)\n"
     ]
    },
    {
     "data": {
      "text/html": [
       "<div>\n",
       "<style>\n",
       "    .dataframe thead tr:only-child th {\n",
       "        text-align: right;\n",
       "    }\n",
       "\n",
       "    .dataframe thead th {\n",
       "        text-align: left;\n",
       "    }\n",
       "\n",
       "    .dataframe tbody tr th {\n",
       "        vertical-align: top;\n",
       "    }\n",
       "</style>\n",
       "<table border=\"1\" class=\"dataframe\">\n",
       "  <thead>\n",
       "    <tr style=\"text-align: right;\">\n",
       "      <th></th>\n",
       "      <th>zip1</th>\n",
       "      <th>zip2</th>\n",
       "      <th>mi_to_zcta5</th>\n",
       "    </tr>\n",
       "  </thead>\n",
       "  <tbody>\n",
       "    <tr>\n",
       "      <th>5853505</th>\n",
       "      <td>99927</td>\n",
       "      <td>99830</td>\n",
       "      <td>43.954377</td>\n",
       "    </tr>\n",
       "    <tr>\n",
       "      <th>5853506</th>\n",
       "      <td>99927</td>\n",
       "      <td>99836</td>\n",
       "      <td>45.909062</td>\n",
       "    </tr>\n",
       "    <tr>\n",
       "      <th>5853507</th>\n",
       "      <td>99927</td>\n",
       "      <td>99833</td>\n",
       "      <td>49.214845</td>\n",
       "    </tr>\n",
       "    <tr>\n",
       "      <th>5853508</th>\n",
       "      <td>99929</td>\n",
       "      <td>99903</td>\n",
       "      <td>40.772611</td>\n",
       "    </tr>\n",
       "    <tr>\n",
       "      <th>5853509</th>\n",
       "      <td>99929</td>\n",
       "      <td>99918</td>\n",
       "      <td>49.714708</td>\n",
       "    </tr>\n",
       "  </tbody>\n",
       "</table>\n",
       "</div>"
      ],
      "text/plain": [
       "          zip1   zip2  mi_to_zcta5\n",
       "5853505  99927  99830    43.954377\n",
       "5853506  99927  99836    45.909062\n",
       "5853507  99927  99833    49.214845\n",
       "5853508  99929  99903    40.772611\n",
       "5853509  99929  99918    49.714708"
      ]
     },
     "execution_count": 4,
     "metadata": {},
     "output_type": "execute_result"
    }
   ],
   "source": [
    "import pandas as pd\n",
    "\n",
    "zcta5 = pd.read_csv('gaz2016zcta5distance50miles.csv')\n",
    "\n",
    "# Alternatively, you can directly read the csv file from their website\n",
    "# url = \"http://data.nber.org/distance/2016/gaz/zcta5/gaz2016zcta5distance50miles.csv\"\n",
    "# zcta5 = pd.read_csv(url)\n",
    "\n",
    "print(zcta5.shape)\n",
    "zcta5.tail()"
   ]
  },
  {
   "cell_type": "markdown",
   "metadata": {},
   "source": [
    "### As shown above, the file contains 5,853,510 pairs of zip codes which are within 50 miles of each other. The last column mi_to_zcta5 is the distance (in miles) between the two zip codes. "
   ]
  },
  {
   "cell_type": "code",
   "execution_count": 2,
   "metadata": {},
   "outputs": [
    {
     "name": "stdout",
     "output_type": "stream",
     "text": [
      "(14, 2)\n"
     ]
    },
    {
     "data": {
      "text/html": [
       "<div>\n",
       "<style>\n",
       "    .dataframe thead tr:only-child th {\n",
       "        text-align: right;\n",
       "    }\n",
       "\n",
       "    .dataframe thead th {\n",
       "        text-align: left;\n",
       "    }\n",
       "\n",
       "    .dataframe tbody tr th {\n",
       "        vertical-align: top;\n",
       "    }\n",
       "</style>\n",
       "<table border=\"1\" class=\"dataframe\">\n",
       "  <thead>\n",
       "    <tr style=\"text-align: right;\">\n",
       "      <th></th>\n",
       "      <th>Zip</th>\n",
       "      <th>Store #</th>\n",
       "    </tr>\n",
       "  </thead>\n",
       "  <tbody>\n",
       "    <tr>\n",
       "      <th>0</th>\n",
       "      <td>94550</td>\n",
       "      <td>910</td>\n",
       "    </tr>\n",
       "    <tr>\n",
       "      <th>1</th>\n",
       "      <td>85641</td>\n",
       "      <td>2809</td>\n",
       "    </tr>\n",
       "    <tr>\n",
       "      <th>2</th>\n",
       "      <td>22102</td>\n",
       "      <td>1920</td>\n",
       "    </tr>\n",
       "    <tr>\n",
       "      <th>3</th>\n",
       "      <td>22302</td>\n",
       "      <td>3250</td>\n",
       "    </tr>\n",
       "    <tr>\n",
       "      <th>4</th>\n",
       "      <td>22015</td>\n",
       "      <td>4002</td>\n",
       "    </tr>\n",
       "  </tbody>\n",
       "</table>\n",
       "</div>"
      ],
      "text/plain": [
       "     Zip  Store #\n",
       "0  94550      910\n",
       "1  85641     2809\n",
       "2  22102     1920\n",
       "3  22302     3250\n",
       "4  22015     4002"
      ]
     },
     "execution_count": 2,
     "metadata": {},
     "output_type": "execute_result"
    }
   ],
   "source": [
    "# Load the file which contains your store ids and the zip codes associated with the stores\n",
    "store_zip = pd.read_excel('store_zip.xlsx')\n",
    "print(store_zip.shape)\n",
    "store_zip.head()"
   ]
  },
  {
   "cell_type": "markdown",
   "metadata": {},
   "source": [
    "### In this example spreadsheet we just loaded, we have 14 stores and their associated home store zip codes."
   ]
  },
  {
   "cell_type": "code",
   "execution_count": 3,
   "metadata": {},
   "outputs": [
    {
     "data": {
      "text/html": [
       "<div>\n",
       "<style>\n",
       "    .dataframe thead tr:only-child th {\n",
       "        text-align: right;\n",
       "    }\n",
       "\n",
       "    .dataframe thead th {\n",
       "        text-align: left;\n",
       "    }\n",
       "\n",
       "    .dataframe tbody tr th {\n",
       "        vertical-align: top;\n",
       "    }\n",
       "</style>\n",
       "<table border=\"1\" class=\"dataframe\">\n",
       "  <thead>\n",
       "    <tr style=\"text-align: right;\">\n",
       "      <th></th>\n",
       "      <th>zip</th>\n",
       "      <th>closest_store</th>\n",
       "      <th>dist_to_store</th>\n",
       "    </tr>\n",
       "  </thead>\n",
       "  <tbody>\n",
       "    <tr>\n",
       "      <th>0</th>\n",
       "      <td>94550</td>\n",
       "      <td>910</td>\n",
       "      <td>0</td>\n",
       "    </tr>\n",
       "    <tr>\n",
       "      <th>1</th>\n",
       "      <td>85641</td>\n",
       "      <td>2809</td>\n",
       "      <td>0</td>\n",
       "    </tr>\n",
       "    <tr>\n",
       "      <th>2</th>\n",
       "      <td>22102</td>\n",
       "      <td>1920</td>\n",
       "      <td>0</td>\n",
       "    </tr>\n",
       "    <tr>\n",
       "      <th>3</th>\n",
       "      <td>22302</td>\n",
       "      <td>3250</td>\n",
       "      <td>0</td>\n",
       "    </tr>\n",
       "    <tr>\n",
       "      <th>4</th>\n",
       "      <td>22015</td>\n",
       "      <td>4002</td>\n",
       "      <td>0</td>\n",
       "    </tr>\n",
       "  </tbody>\n",
       "</table>\n",
       "</div>"
      ],
      "text/plain": [
       "     zip  closest_store  dist_to_store\n",
       "0  94550            910              0\n",
       "1  85641           2809              0\n",
       "2  22102           1920              0\n",
       "3  22302           3250              0\n",
       "4  22015           4002              0"
      ]
     },
     "execution_count": 3,
     "metadata": {},
     "output_type": "execute_result"
    }
   ],
   "source": [
    "# Add a column to store the distance between a zip code and the store.\n",
    "# Set the initial value for these existing 14 records to 0, \n",
    "# since the closest store for each zip code here is by default the listed home store \n",
    "store_zip['dist_to_store'] = 0\n",
    "store_zip.rename(columns={'Zip': 'zip', 'Store #': 'closest_store'}, inplace=True)\n",
    "\n",
    "# Make a dictionary in order to map zip code to their closest store later\n",
    "di = pd.Series(store_zip['closest_store'].values, index=store_zip['zip']).to_dict()\n",
    "\n",
    "store_zip.head()"
   ]
  },
  {
   "cell_type": "code",
   "execution_count": 5,
   "metadata": {},
   "outputs": [
    {
     "name": "stdout",
     "output_type": "stream",
     "text": [
      "There are 1179 zip codes within our 14 stores' 50 mile radius.\n"
     ]
    }
   ],
   "source": [
    "# Every zip code within 50 mile radius of our 14 stores' zip codes\n",
    "store_ziplist = store_zip['zip'].tolist()\n",
    "\n",
    "# Find all the zip codes associated with the 14 home store zip codes in the zcta5 table\n",
    "# These are the zip codes within 50 miles of our 14 stores\n",
    "zip_within50miles = zcta5[zcta5['zip1'].isin(store_ziplist)==True]\n",
    "zip_within50miles_list = zip_within50miles['zip2'].unique().tolist()\n",
    "\n",
    "print(\"There are %d zip codes within our %d stores' 50 mile radius.\" % (len(zip_within50miles_list),len(store_ziplist)))"
   ]
  },
  {
   "cell_type": "code",
   "execution_count": 6,
   "metadata": {},
   "outputs": [
    {
     "name": "stdout",
     "output_type": "stream",
     "text": [
      "(1179, 3)\n"
     ]
    },
    {
     "data": {
      "text/html": [
       "<div>\n",
       "<style>\n",
       "    .dataframe thead tr:only-child th {\n",
       "        text-align: right;\n",
       "    }\n",
       "\n",
       "    .dataframe thead th {\n",
       "        text-align: left;\n",
       "    }\n",
       "\n",
       "    .dataframe tbody tr th {\n",
       "        vertical-align: top;\n",
       "    }\n",
       "</style>\n",
       "<table border=\"1\" class=\"dataframe\">\n",
       "  <thead>\n",
       "    <tr style=\"text-align: right;\">\n",
       "      <th></th>\n",
       "      <th>zip</th>\n",
       "      <th>closest_store</th>\n",
       "      <th>dist_to_store</th>\n",
       "    </tr>\n",
       "  </thead>\n",
       "  <tbody>\n",
       "    <tr>\n",
       "      <th>0</th>\n",
       "      <td>20721</td>\n",
       "      <td>1804</td>\n",
       "      <td>3.846953</td>\n",
       "    </tr>\n",
       "    <tr>\n",
       "      <th>1</th>\n",
       "      <td>20715</td>\n",
       "      <td>1804</td>\n",
       "      <td>4.574063</td>\n",
       "    </tr>\n",
       "    <tr>\n",
       "      <th>2</th>\n",
       "      <td>20774</td>\n",
       "      <td>1804</td>\n",
       "      <td>4.793460</td>\n",
       "    </tr>\n",
       "    <tr>\n",
       "      <th>3</th>\n",
       "      <td>21035</td>\n",
       "      <td>1804</td>\n",
       "      <td>4.823621</td>\n",
       "    </tr>\n",
       "    <tr>\n",
       "      <th>4</th>\n",
       "      <td>20720</td>\n",
       "      <td>1804</td>\n",
       "      <td>5.443201</td>\n",
       "    </tr>\n",
       "  </tbody>\n",
       "</table>\n",
       "</div>"
      ],
      "text/plain": [
       "     zip  closest_store  dist_to_store\n",
       "0  20721           1804       3.846953\n",
       "1  20715           1804       4.574063\n",
       "2  20774           1804       4.793460\n",
       "3  21035           1804       4.823621\n",
       "4  20720           1804       5.443201"
      ]
     },
     "execution_count": 6,
     "metadata": {},
     "output_type": "execute_result"
    }
   ],
   "source": [
    "# Create three empty lists to store the results from the iteration\n",
    "result_zip = []\n",
    "result_store = []\n",
    "result_dist = []\n",
    "\n",
    "# Iterate through each zip code within 50 mile radius and find their closest stores\n",
    "for i in range(len(zip_within50miles_list)):\n",
    "    zipcode = zip_within50miles_list[i]\n",
    "    # A subset for this zip code\n",
    "    zip_dist = zip_within50miles[zip_within50miles['zip2']==zipcode]\n",
    "    # The index for the minimum distance in this subset\n",
    "    min_dist_ix = zip_dist['mi_to_zcta5'].idxmin()\n",
    "    # Find the closest zip code based on the min index\n",
    "    closest_zip = zip_dist['zip1'][min_dist_ix]\n",
    "    # Find the minimum distance based on the min index\n",
    "    min_dist = zip_dist['mi_to_zcta5'][min_dist_ix]\n",
    "    # Use the mapping table we created before to link the zip code to the store\n",
    "    closest_store = di[closest_zip]\n",
    "    # Store the results in the empty lists\n",
    "    result_zip.append(zipcode)\n",
    "    result_store.append(closest_store)\n",
    "    result_dist.append(min_dist)\n",
    "\n",
    "# Put the results in a dataframe\n",
    "result = {'zip': result_zip,\n",
    "          'closest_store': result_store,\n",
    "          'dist_to_store': result_dist}\n",
    "\n",
    "df = pd.DataFrame.from_dict(result)\n",
    "\n",
    "df = df[['zip', 'closest_store', 'dist_to_store']] \n",
    "\n",
    "print(df.shape)\n",
    "df.head()"
   ]
  },
  {
   "cell_type": "markdown",
   "metadata": {},
   "source": [
    "## We found 1,179 zip codes within 50 miles of the 14 stores. For each zip code, we found the closest store and the distance between the zip code and the store."
   ]
  },
  {
   "cell_type": "code",
   "execution_count": 7,
   "metadata": {
    "collapsed": true
   },
   "outputs": [],
   "source": [
    "# Let's clean the result a little bit \n",
    "# Exclude the zip codes associated with a home store - their closest stores should be those home stores by default\n",
    "df = df[~df['zip'].isin(store_ziplist)]\n",
    "\n",
    "# Append these home store zip codes and their associated stores to the data frame\n",
    "result = df.append(store_zip) "
   ]
  },
  {
   "cell_type": "code",
   "execution_count": 8,
   "metadata": {},
   "outputs": [
    {
     "data": {
      "text/plain": [
       "(1182, 3)"
      ]
     },
     "execution_count": 8,
     "metadata": {},
     "output_type": "execute_result"
    }
   ],
   "source": [
    "result.shape"
   ]
  },
  {
   "cell_type": "code",
   "execution_count": 9,
   "metadata": {
    "collapsed": true
   },
   "outputs": [],
   "source": [
    "result.to_csv('Zip Codes Within 50 Miles of Your Store.csv',index=False)"
   ]
  }
 ],
 "metadata": {
  "kernelspec": {
   "display_name": "Python 3",
   "language": "python",
   "name": "python3"
  },
  "language_info": {
   "codemirror_mode": {
    "name": "ipython",
    "version": 3
   },
   "file_extension": ".py",
   "mimetype": "text/x-python",
   "name": "python",
   "nbconvert_exporter": "python",
   "pygments_lexer": "ipython3",
   "version": "3.6.3"
  }
 },
 "nbformat": 4,
 "nbformat_minor": 2
}
